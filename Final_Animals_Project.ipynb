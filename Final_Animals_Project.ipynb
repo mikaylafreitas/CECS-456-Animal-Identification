{
  "nbformat": 4,
  "nbformat_minor": 0,
  "metadata": {
    "colab": {
      "name": "Final Animals Project",
      "provenance": [],
      "collapsed_sections": [],
      "include_colab_link": true
    },
    "kernelspec": {
      "name": "python3",
      "display_name": "Python 3"
    },
    "language_info": {
      "name": "python"
    }
  },
  "cells": [
    {
      "cell_type": "markdown",
      "metadata": {
        "id": "view-in-github",
        "colab_type": "text"
      },
      "source": [
        "<a href=\"https://colab.research.google.com/github/mikaylafreitas/CECS-456-Animal-Identification/blob/main/Final_Animals_Project.ipynb\" target=\"_parent\"><img src=\"https://colab.research.google.com/assets/colab-badge.svg\" alt=\"Open In Colab\"/></a>"
      ]
    },
    {
      "cell_type": "code",
      "source": [
        "import os\n",
        "import cv2\n",
        "import numpy as np\n",
        "import tensorflow as tf\n",
        "from tensorflow.keras.models import Sequential\n",
        "from tensorflow.keras.layers import Dense, Flatten, Conv2D, MaxPooling2D\n"
      ],
      "metadata": {
        "id": "bYtqLDf6vz6x"
      },
      "execution_count": 77,
      "outputs": []
    },
    {
      "cell_type": "code",
      "execution_count": 78,
      "metadata": {
        "colab": {
          "base_uri": "https://localhost:8080/"
        },
        "id": "DuMWTQ1pwmAU",
        "outputId": "81175b26-c4a5-42fb-9cdd-131a016ea578"
      },
      "outputs": [
        {
          "output_type": "stream",
          "name": "stdout",
          "text": [
            "Warning: Your Kaggle API key is readable by other users on this system! To fix this, you can run 'chmod 600 /root/.kaggle/kaggle.json'\n",
            "Downloading animals10.zip to /content\n",
            " 98% 574M/586M [00:04<00:00, 146MB/s]\n",
            "100% 586M/586M [00:04<00:00, 129MB/s]\n"
          ]
        }
      ],
      "source": [
        "# download the dataset into colab files\n",
        "! mkdir .kaggle\n",
        "! mv .kaggle /root/.kaggle\n",
        "file = open('/root/.kaggle/kaggle.json', 'w')\n",
        "file.write('{\"username\":\"michaelhannigan\",\"key\":\"632d50dd624ee247052cad925a6ee2fa\"}')\n",
        "file.close()\n",
        "! kaggle datasets download --force alessiocorrado99/animals10\n"
      ]
    },
    {
      "cell_type": "code",
      "source": [
        "!unzip animals10.zip"
      ],
      "metadata": {
        "id": "AQb8JPi05g3m",
        "colab": {
          "base_uri": "https://localhost:8080/"
        },
        "outputId": "fa175c73-fe55-4687-c51c-484f3220a1fc"
      },
      "execution_count": 79,
      "outputs": [
        {
          "output_type": "stream",
          "name": "stdout",
          "text": [
            "Archive:  animals10.zip\n",
            "replace raw-img/cane/OIF-e2bexWrojgtQnAPPcUfOWQ.jpeg? [y]es, [n]o, [A]ll, [N]one, [r]ename: "
          ]
        }
      ]
    },
    {
      "cell_type": "code",
      "source": [
        "IMAGE_SIZE = 28\n",
        "translate = {\"cane\": \"dog\", \"cavallo\": \"horse\", \"elefante\": \"elephant\", \"farfalla\": \"butterfly\", \"gallina\": \"chicken\", \"gatto\": \"cat\", \"mucca\": \"cow\", \"pecora\": \"sheep\", \"ragno\": \"spider\", \"scoiattolo\": \"squirrel\"}  \n",
        "X = []\n",
        "y = []"
      ],
      "metadata": {
        "id": "JgZ0FRex6gS9"
      },
      "execution_count": 81,
      "outputs": []
    },
    {
      "cell_type": "code",
      "source": [
        "for category,translation in translate.items():\n",
        "            pathname=\"/content/raw-img/\"+category\n",
        "            label=translation\n",
        "\n",
        "            for img in os.listdir(pathname):\n",
        "              pic = cv2.imread(os.path.join(pathname, img), cv2.IMREAD_GRAYSCALE)\n",
        "              feature = cv2.resize(pic, (IMAGE_SIZE, IMAGE_SIZE))\n",
        "              feature = feature.astype(np.float32)\n",
        "              feature /= 255.0\n",
        "              X.append(feature)\n",
        "              y.append(label)\n",
        "              "
      ],
      "metadata": {
        "id": "0oE5Ta7kzSkb"
      },
      "execution_count": 82,
      "outputs": []
    },
    {
      "cell_type": "code",
      "source": [
        "from sklearn.model_selection import train_test_split\n",
        "X_train, X_test, y_train, y_test = train_test_split(X, y, test_size=0.2, random_state=1)\n",
        "print(len(X_train), len(y_train), len(X_test), len(y_test))"
      ],
      "metadata": {
        "colab": {
          "base_uri": "https://localhost:8080/"
        },
        "id": "paO_1ggZcHtq",
        "outputId": "715af924-c96c-4e6a-ac7c-3ada0cac3d51"
      },
      "execution_count": 83,
      "outputs": [
        {
          "output_type": "stream",
          "name": "stdout",
          "text": [
            "20943 20943 5236 5236\n"
          ]
        }
      ]
    },
    {
      "cell_type": "code",
      "source": [
        "# reshape the array of feature images & normalize\n",
        "X_train=np.array(X_train).reshape(-1,IMAGE_SIZE, IMAGE_SIZE,1)\n",
        "X_train = tf.keras.utils.normalize(X_train,axis=1)\n",
        "y_train =np.array(y_train) \n",
        "                                                                                                                                                                                                                                                                                                                                                                                                                  "
      ],
      "metadata": {
        "id": "zZvP7gXMkGwk"
      },
      "execution_count": 84,
      "outputs": []
    },
    {
      "cell_type": "code",
      "source": [
        "# Encode the features so that they are float32 and not strings\n",
        "from sklearn.preprocessing import LabelEncoder\n",
        "encoder = LabelEncoder()\n",
        "y_train = encoder.fit_transform(y_train)\n",
        "label_mapping = dict(zip(encoder.fit_transform(encoder.classes_), encoder.classes_))"
      ],
      "metadata": {
        "id": "8EhbEWTIy3om"
      },
      "execution_count": 85,
      "outputs": []
    },
    {
      "cell_type": "code",
      "source": [
        "# Define the model architecture of first deep learning model\n",
        "model1 = Sequential()\n",
        "model1.add(tf.keras.layers.Flatten(input_shape = [28,28]))\n",
        "model1.add(tf.keras.layers.Dense(units=300, activation=\"relu\"))\n",
        "model1.add(tf.keras.layers.Dense(units=100, activation=\"relu\"))\n",
        "model1.add(tf.keras.layers.Dense(units=10, activation=\"softmax\"))\n",
        "\n",
        "#Compile the model\n",
        "model1.compile(loss='sparse_categorical_crossentropy', optimizer='adam', metrics=['accuracy'])\n",
        "\n",
        "F = model1.fit(X_train, y_train, batch_size = 100, epochs = 30)"
      ],
      "metadata": {
        "colab": {
          "base_uri": "https://localhost:8080/"
        },
        "id": "CS3Xp-b-C9Wn",
        "outputId": "4605d1de-f7fb-4313-f700-11aa847fb042"
      },
      "execution_count": 86,
      "outputs": [
        {
          "output_type": "stream",
          "name": "stdout",
          "text": [
            "Epoch 1/30\n",
            "210/210 [==============================] - 2s 6ms/step - loss: 2.1739 - accuracy: 0.2068\n",
            "Epoch 2/30\n",
            "210/210 [==============================] - 1s 6ms/step - loss: 2.0974 - accuracy: 0.2571\n",
            "Epoch 3/30\n",
            "210/210 [==============================] - 1s 6ms/step - loss: 2.0409 - accuracy: 0.2810\n",
            "Epoch 4/30\n",
            "210/210 [==============================] - 1s 6ms/step - loss: 2.0037 - accuracy: 0.2939\n",
            "Epoch 5/30\n",
            "210/210 [==============================] - 1s 6ms/step - loss: 1.9719 - accuracy: 0.3073\n",
            "Epoch 6/30\n",
            "210/210 [==============================] - 1s 6ms/step - loss: 1.9484 - accuracy: 0.3193\n",
            "Epoch 7/30\n",
            "210/210 [==============================] - 1s 6ms/step - loss: 1.9331 - accuracy: 0.3254\n",
            "Epoch 8/30\n",
            "210/210 [==============================] - 1s 5ms/step - loss: 1.9005 - accuracy: 0.3370\n",
            "Epoch 9/30\n",
            "210/210 [==============================] - 1s 6ms/step - loss: 1.8911 - accuracy: 0.3428\n",
            "Epoch 10/30\n",
            "210/210 [==============================] - 1s 6ms/step - loss: 1.8614 - accuracy: 0.3538\n",
            "Epoch 11/30\n",
            "210/210 [==============================] - 1s 5ms/step - loss: 1.8437 - accuracy: 0.3584\n",
            "Epoch 12/30\n",
            "210/210 [==============================] - 1s 6ms/step - loss: 1.8251 - accuracy: 0.3650\n",
            "Epoch 13/30\n",
            "210/210 [==============================] - 1s 6ms/step - loss: 1.8113 - accuracy: 0.3730\n",
            "Epoch 14/30\n",
            "210/210 [==============================] - 1s 6ms/step - loss: 1.7882 - accuracy: 0.3835\n",
            "Epoch 15/30\n",
            "210/210 [==============================] - 1s 6ms/step - loss: 1.7667 - accuracy: 0.3902\n",
            "Epoch 16/30\n",
            "210/210 [==============================] - 1s 6ms/step - loss: 1.7465 - accuracy: 0.3946\n",
            "Epoch 17/30\n",
            "210/210 [==============================] - 1s 6ms/step - loss: 1.7353 - accuracy: 0.4033\n",
            "Epoch 18/30\n",
            "210/210 [==============================] - 1s 6ms/step - loss: 1.7119 - accuracy: 0.4114\n",
            "Epoch 19/30\n",
            "210/210 [==============================] - 1s 6ms/step - loss: 1.6853 - accuracy: 0.4228\n",
            "Epoch 20/30\n",
            "210/210 [==============================] - 1s 6ms/step - loss: 1.6660 - accuracy: 0.4282\n",
            "Epoch 21/30\n",
            "210/210 [==============================] - 1s 6ms/step - loss: 1.6493 - accuracy: 0.4316\n",
            "Epoch 22/30\n",
            "210/210 [==============================] - 1s 6ms/step - loss: 1.6297 - accuracy: 0.4413\n",
            "Epoch 23/30\n",
            "210/210 [==============================] - 1s 6ms/step - loss: 1.6094 - accuracy: 0.4482\n",
            "Epoch 24/30\n",
            "210/210 [==============================] - 1s 5ms/step - loss: 1.5856 - accuracy: 0.4560\n",
            "Epoch 25/30\n",
            "210/210 [==============================] - 1s 6ms/step - loss: 1.5764 - accuracy: 0.4589\n",
            "Epoch 26/30\n",
            "210/210 [==============================] - 1s 6ms/step - loss: 1.5557 - accuracy: 0.4692\n",
            "Epoch 27/30\n",
            "210/210 [==============================] - 1s 6ms/step - loss: 1.5362 - accuracy: 0.4769\n",
            "Epoch 28/30\n",
            "210/210 [==============================] - 1s 6ms/step - loss: 1.5173 - accuracy: 0.4825\n",
            "Epoch 29/30\n",
            "210/210 [==============================] - 1s 6ms/step - loss: 1.4907 - accuracy: 0.4909\n",
            "Epoch 30/30\n",
            "210/210 [==============================] - 1s 6ms/step - loss: 1.4828 - accuracy: 0.4948\n"
          ]
        }
      ]
    },
    {
      "cell_type": "code",
      "source": [
        "import matplotlib.pyplot as plt\n",
        "\n",
        "fig = plt.figure()\n",
        "numOfEpoch = 30\n",
        "plt.plot(np.arange(0, numOfEpoch), F.history['loss'], label='training loss')\n",
        "#plt.plot(np.arange(0, numOfEpoch), F.history['val_loss'], label='validation loss')\n",
        "plt.plot(np.arange(0, numOfEpoch), F.history['accuracy'], label='accuracy')\n",
        "#plt.plot(np.arange(0, numOfEpoch), F.history['val_accuracy'], label='validation accuracy')\n",
        "plt.title('Accuracy and Loss')\n",
        "plt.xlabel('Epoch')\n",
        "plt.ylabel('Loss|Accuracy')\n",
        "plt.legend()"
      ],
      "metadata": {
        "colab": {
          "base_uri": "https://localhost:8080/",
          "height": 312
        },
        "id": "UfCdJ5z2GFbK",
        "outputId": "c9e12602-c45e-4299-f7ce-244c27e03a7a"
      },
      "execution_count": 87,
      "outputs": [
        {
          "output_type": "execute_result",
          "data": {
            "text/plain": [
              "<matplotlib.legend.Legend at 0x7f99ab362e90>"
            ]
          },
          "metadata": {},
          "execution_count": 87
        },
        {
          "output_type": "display_data",
          "data": {
            "image/png": "[encoded data removed]",
            "text/plain": [
              "<Figure size 432x288 with 1 Axes>"
            ]
          },
          "metadata": {
            "needs_background": "light"
          }
        }
      ]
    },
    {
      "cell_type": "code",
      "source": [
        "x_new = X_test[:10]\n",
        "\n",
        "y_pred =model1.predict(np.array(x_new).reshape(-1,IMAGE_SIZE,IMAGE_SIZE,1))\n",
        "\n",
        "print(\"Actual animal: \", y_test[0])\n",
        "print(\"Predicted animal: \", label_mapping[np.argmax(y_pred[0])])\n",
        "print(\"Actual animal: \", y_test[1])\n",
        "print(\"Predicted animal: \", label_mapping[np.argmax(y_pred[1])])\n",
        "print(\"Actual animal: \", y_test[2])\n",
        "print(\"Predicted animal: \", label_mapping[np.argmax(y_pred[2])])\n",
        "print(\"Actual animal: \", y_test[3])\n",
        "print(\"Predicted animal: \", label_mapping[np.argmax(y_pred[3])])\n",
        "print(\"Actual animal: \", y_test[4])\n",
        "print(\"Predicted animal: \", label_mapping[np.argmax(y_pred[4])])"
      ],
      "metadata": {
        "colab": {
          "base_uri": "https://localhost:8080/"
        },
        "id": "dkmjPE4UHaiL",
        "outputId": "1758bd8a-08c5-482b-df85-09a45bd4503b"
      },
      "execution_count": 96,
      "outputs": [
        {
          "output_type": "stream",
          "name": "stdout",
          "text": [
            "Actual animal:  spider\n",
            "Predicted animal:  spider\n",
            "Actual animal:  horse\n",
            "Predicted animal:  spider\n",
            "Actual animal:  horse\n",
            "Predicted animal:  dog\n",
            "Actual animal:  spider\n",
            "Predicted animal:  squirrel\n",
            "Actual animal:  spider\n",
            "Predicted animal:  spider\n"
          ]
        }
      ]
    },
    {
      "cell_type": "code",
      "source": [
        "# Define the model architecture of second deep learning model\n",
        "model2 = Sequential()\n",
        "model2.add(Conv2D(32, kernel_size=(3, 3), activation='relu', input_shape=X_train.shape[1:]))\n",
        "model2.add(MaxPooling2D(pool_size=(2, 2)))\n",
        "model2.add(Conv2D(64, kernel_size=(3, 3), activation='relu'))\n",
        "model2.add(MaxPooling2D(pool_size=(2, 2)))\n",
        "model2.add(Flatten())\n",
        "model2.add(Dense(256, activation='relu'))\n",
        "model2.add(Dense(128, activation='relu'))\n",
        "model2.add(Dense(64, activation='softmax'))\n",
        "\n",
        "# Compile the model\n",
        "model2.compile(loss='sparse_categorical_crossentropy',\n",
        "              optimizer='adam',\n",
        "              metrics=['accuracy'])\n",
        "\n",
        "\n",
        "H = model2.fit(X_train, y_train, batch_size = 100, epochs=30)"
      ],
      "metadata": {
        "colab": {
          "base_uri": "https://localhost:8080/"
        },
        "id": "WlnSho8Yaa4K",
        "outputId": "1a994d53-ea41-41ec-cf07-0baf1d820f6c"
      },
      "execution_count": 93,
      "outputs": [
        {
          "output_type": "stream",
          "name": "stdout",
          "text": [
            "Epoch 1/30\n",
            "210/210 [==============================] - 18s 82ms/step - loss: 2.2687 - accuracy: 0.2074\n",
            "Epoch 2/30\n",
            "210/210 [==============================] - 17s 82ms/step - loss: 1.9571 - accuracy: 0.3223\n",
            "Epoch 3/30\n",
            "210/210 [==============================] - 17s 82ms/step - loss: 1.8180 - accuracy: 0.3743\n",
            "Epoch 4/30\n",
            "210/210 [==============================] - 17s 82ms/step - loss: 1.6935 - accuracy: 0.4163\n",
            "Epoch 5/30\n",
            "210/210 [==============================] - 17s 82ms/step - loss: 1.6057 - accuracy: 0.4487\n",
            "Epoch 6/30\n",
            "210/210 [==============================] - 19s 89ms/step - loss: 1.5247 - accuracy: 0.4780\n",
            "Epoch 7/30\n",
            "210/210 [==============================] - 17s 82ms/step - loss: 1.4611 - accuracy: 0.5005\n",
            "Epoch 8/30\n",
            "210/210 [==============================] - 17s 82ms/step - loss: 1.4117 - accuracy: 0.5185\n",
            "Epoch 9/30\n",
            "210/210 [==============================] - 17s 82ms/step - loss: 1.3533 - accuracy: 0.5376\n",
            "Epoch 10/30\n",
            "210/210 [==============================] - 17s 82ms/step - loss: 1.2964 - accuracy: 0.5563\n",
            "Epoch 11/30\n",
            "210/210 [==============================] - 17s 83ms/step - loss: 1.2339 - accuracy: 0.5747\n",
            "Epoch 12/30\n",
            "210/210 [==============================] - 17s 82ms/step - loss: 1.1869 - accuracy: 0.5937\n",
            "Epoch 13/30\n",
            "210/210 [==============================] - 17s 83ms/step - loss: 1.1221 - accuracy: 0.6194\n",
            "Epoch 14/30\n",
            "210/210 [==============================] - 17s 83ms/step - loss: 1.0633 - accuracy: 0.6394\n",
            "Epoch 15/30\n",
            "210/210 [==============================] - 17s 83ms/step - loss: 1.0124 - accuracy: 0.6560\n",
            "Epoch 16/30\n",
            "210/210 [==============================] - 17s 82ms/step - loss: 0.9380 - accuracy: 0.6854\n",
            "Epoch 17/30\n",
            "210/210 [==============================] - 17s 83ms/step - loss: 0.8780 - accuracy: 0.7057\n",
            "Epoch 18/30\n",
            "210/210 [==============================] - 17s 83ms/step - loss: 0.8192 - accuracy: 0.7253\n",
            "Epoch 19/30\n",
            "210/210 [==============================] - 17s 83ms/step - loss: 0.7465 - accuracy: 0.7497\n",
            "Epoch 20/30\n",
            "210/210 [==============================] - 17s 82ms/step - loss: 0.6827 - accuracy: 0.7752\n",
            "Epoch 21/30\n",
            "210/210 [==============================] - 17s 82ms/step - loss: 0.6159 - accuracy: 0.7963\n",
            "Epoch 22/30\n",
            "210/210 [==============================] - 17s 82ms/step - loss: 0.5461 - accuracy: 0.8206\n",
            "Epoch 23/30\n",
            "210/210 [==============================] - 17s 82ms/step - loss: 0.4812 - accuracy: 0.8439\n",
            "Epoch 24/30\n",
            "210/210 [==============================] - 17s 82ms/step - loss: 0.4231 - accuracy: 0.8653\n",
            "Epoch 25/30\n",
            "210/210 [==============================] - 17s 82ms/step - loss: 0.3632 - accuracy: 0.8857\n",
            "Epoch 26/30\n",
            "210/210 [==============================] - 17s 82ms/step - loss: 0.3056 - accuracy: 0.9051\n",
            "Epoch 27/30\n",
            "210/210 [==============================] - 17s 82ms/step - loss: 0.2773 - accuracy: 0.9119\n",
            "Epoch 28/30\n",
            "210/210 [==============================] - 17s 82ms/step - loss: 0.2190 - accuracy: 0.9343\n",
            "Epoch 29/30\n",
            "210/210 [==============================] - 17s 82ms/step - loss: 0.1828 - accuracy: 0.9478\n",
            "Epoch 30/30\n",
            "210/210 [==============================] - 17s 82ms/step - loss: 0.1525 - accuracy: 0.9565\n"
          ]
        }
      ]
    },
    {
      "cell_type": "code",
      "source": [
        "import matplotlib.pyplot as plt\n",
        "\n",
        "fig = plt.figure()\n",
        "numOfEpoch = 30\n",
        "plt.plot(np.arange(0, numOfEpoch), H.history['loss'], label='training loss')\n",
        "#plt.plot(np.arange(0, numOfEpoch), H.history['val_loss'], label='validation loss')\n",
        "plt.plot(np.arange(0, numOfEpoch), H.history['accuracy'], label='accuracy')\n",
        "#plt.plot(np.arange(0, numOfEpoch), H.history['val_accuracy'], label='validation accuracy')\n",
        "plt.title('Accuracy and Loss')\n",
        "plt.xlabel('Epoch')\n",
        "plt.ylabel('Loss|Accuracy')\n",
        "plt.legend()"
      ],
      "metadata": {
        "colab": {
          "base_uri": "https://localhost:8080/",
          "height": 312
        },
        "id": "iYLwQ-frSxzZ",
        "outputId": "1546aa9e-b67a-4d46-bf3d-979de69078a2"
      },
      "execution_count": 94,
      "outputs": [
        {
          "output_type": "execute_result",
          "data": {
            "text/plain": [
              "<matplotlib.legend.Legend at 0x7f99ab295bd0>"
            ]
          },
          "metadata": {},
          "execution_count": 94
        },
        {
          "output_type": "display_data",
          "data": {
            "image/png": "[encoded data removed]",
            "text/plain": [
              "<Figure size 432x288 with 1 Axes>"
            ]
          },
          "metadata": {
            "needs_background": "light"
          }
        }
      ]
    },
    {
      "cell_type": "code",
      "source": [
        "x_new = X_test[:10]\n",
        "\n",
        "y_pred =model2.predict(np.array(x_new).reshape(-1,IMAGE_SIZE,IMAGE_SIZE,1))\n",
        "\n",
        "print(\"Actual animal: \", y_test[0])\n",
        "print(\"Predicted animal: \", label_mapping[np.argmax(y_pred[0])])\n",
        "print(\"Actual animal: \", y_test[1])\n",
        "print(\"Predicted animal: \", label_mapping[np.argmax(y_pred[1])])\n",
        "print(\"Actual animal: \", y_test[2])\n",
        "print(\"Predicted animal: \", label_mapping[np.argmax(y_pred[2])])\n",
        "print(\"Actual animal: \", y_test[3])\n",
        "print(\"Predicted animal: \", label_mapping[np.argmax(y_pred[3])])\n",
        "print(\"Actual animal: \", y_test[4])\n",
        "print(\"Predicted animal: \", label_mapping[np.argmax(y_pred[4])])"
      ],
      "metadata": {
        "colab": {
          "base_uri": "https://localhost:8080/"
        },
        "id": "PVgEEFpAdvQ6",
        "outputId": "dd5c77fc-e64e-4ebd-91fb-1dc9b855a964"
      },
      "execution_count": 97,
      "outputs": [
        {
          "output_type": "stream",
          "name": "stdout",
          "text": [
            "Actual animal:  spider\n",
            "Predicted animal:  spider\n",
            "Actual animal:  horse\n",
            "Predicted animal:  chicken\n",
            "Actual animal:  horse\n",
            "Predicted animal:  chicken\n",
            "Actual animal:  spider\n",
            "Predicted animal:  butterfly\n",
            "Actual animal:  spider\n",
            "Predicted animal:  spider\n"
          ]
        }
      ]
    },
    {
      "cell_type": "markdown",
      "source": [
        ""
      ],
      "metadata": {
        "id": "6PYLCT5fteuj"
      }
    }
  ]
}
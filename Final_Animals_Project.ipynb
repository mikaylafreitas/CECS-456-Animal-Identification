{
  "nbformat": 4,
  "nbformat_minor": 0,
  "metadata": {
    "colab": {
      "name": "Final Animals Project",
      "provenance": [],
      "collapsed_sections": [],
      "include_colab_link": true
    },
    "kernelspec": {
      "name": "python3",
      "display_name": "Python 3"
    },
    "language_info": {
      "name": "python"
    }
  },
  "cells": [
    {
      "cell_type": "markdown",
      "metadata": {
        "id": "view-in-github",
        "colab_type": "text"
      },
      "source": [
        "<a href=\"https://colab.research.google.com/github/mikaylafreitas/CECS-456-Animal-Identification/blob/main/Final_Animals_Project.ipynb\" target=\"_parent\"><img src=\"https://colab.research.google.com/assets/colab-badge.svg\" alt=\"Open In Colab\"/></a>"
      ]
    },
    {
      "cell_type": "code",
      "source": [
        "import os\n",
        "import cv2\n",
        "import numpy as np\n",
        "import tensorflow as tf\n",
        "from tensorflow.keras.models import Sequential\n",
        "from tensorflow.keras.layers import Dense, Flatten, Conv2D, MaxPooling2D\n"
      ],
      "metadata": {
        "id": "bYtqLDf6vz6x"
      },
      "execution_count": null,
      "outputs": []
    },
    {
      "cell_type": "code",
      "execution_count": null,
      "metadata": {
        "colab": {
          "base_uri": "https://localhost:8080/"
        },
        "id": "DuMWTQ1pwmAU",
        "outputId": "e7e2de2c-e37d-4dec-a412-dde79347e7a8"
      },
      "outputs": [
        {
          "output_type": "stream",
          "name": "stdout",
          "text": [
            "Warning: Your Kaggle API key is readable by other users on this system! To fix this, you can run 'chmod 600 /root/.kaggle/kaggle.json'\n",
            "Downloading animals10.zip to /content\n",
            "100% 586M/586M [00:07<00:00, 105MB/s] \n",
            "\n"
          ]
        }
      ],
      "source": [
        "# download the dataset into colab files\n",
        "! mkdir .kaggle\n",
        "! mv .kaggle /root/.kaggle\n",
        "file = open('/root/.kaggle/kaggle.json', 'w')\n",
        "file.write('{\"username\":\"michaelhannigan\",\"key\":\"632d50dd624ee247052cad925a6ee2fa\"}')\n",
        "file.close()\n",
        "! kaggle datasets download --force alessiocorrado99/animals10\n"
      ]
    },
    {
      "cell_type": "code",
      "source": [
        "!unzip animals10.zip"
      ],
      "metadata": {
        "id": "AQb8JPi05g3m",
        "colab": {
          "base_uri": "https://localhost:8080/"
        },
        "outputId": "bb4332dc-8cc1-4289-9ae8-b6ea9864f803"
      },
      "execution_count": null,
      "outputs": [
        {
          "output_type": "stream",
          "name": "stdout",
          "text": [
            "Archive:  animals10.zip\n",
            "replace raw-img/cane/OIF-e2bexWrojgtQnAPPcUfOWQ.jpeg? [y]es, [n]o, [A]ll, [N]one, [r]ename: "
          ]
        }
      ]
    },
    {
      "cell_type": "code",
      "source": [
        "IMAGE_SIZE = 28\n",
        "translate = {\"cane\": \"dog\", \"cavallo\": \"horse\", \"elefante\": \"elephant\", \"farfalla\": \"butterfly\", \"gallina\": \"chicken\", \"gatto\": \"cat\", \"mucca\": \"cow\", \"pecora\": \"sheep\", \"ragno\": \"spider\", \"scoiattolo\": \"squirrel\"}  \n",
        "X = []\n",
        "y = []"
      ],
      "metadata": {
        "id": "JgZ0FRex6gS9"
      },
      "execution_count": null,
      "outputs": []
    },
    {
      "cell_type": "code",
      "source": [
        "for category,translation in translate.items():\n",
        "            pathname=\"/content/raw-img/\"+category\n",
        "            label=translation\n",
        "\n",
        "            for img in os.listdir(pathname):\n",
        "              pic = cv2.imread(os.path.join(pathname, img), cv2.IMREAD_GRAYSCALE)\n",
        "              feature = cv2.resize(pic, (IMAGE_SIZE, IMAGE_SIZE))\n",
        "              feature = feature.astype(np.float32)\n",
        "              feature /= 255.0\n",
        "              X.append(feature)\n",
        "              y.append(label)\n",
        "              "
      ],
      "metadata": {
        "id": "0oE5Ta7kzSkb"
      },
      "execution_count": null,
      "outputs": []
    },
    {
      "cell_type": "code",
      "source": [
        "from sklearn.model_selection import train_test_split\n",
        "X_train, X_test, y_train, y_test = train_test_split(X, y, test_size=0.2, random_state=1)\n",
        "print(len(X_train), len(y_train), len(X_test), len(y_test))"
      ],
      "metadata": {
        "colab": {
          "base_uri": "https://localhost:8080/"
        },
        "id": "paO_1ggZcHtq",
        "outputId": "6c0fdfca-e5f8-4915-eb5c-a7a36601b859"
      },
      "execution_count": null,
      "outputs": [
        {
          "output_type": "stream",
          "name": "stdout",
          "text": [
            "20943 20943 5236 5236\n"
          ]
        }
      ]
    },
    {
      "cell_type": "code",
      "source": [
        "# reshape the array of feature images & normalize\n",
        "X_train=np.array(X_train).reshape(-1,IMAGE_SIZE, IMAGE_SIZE,1)\n",
        "X_train = tf.keras.utils.normalize(X_train,axis=1)\n",
        "y_train =np.array(y_train) \n",
        "                                                                                                                                                                                                                                                                                                                                                                                                                  "
      ],
      "metadata": {
        "id": "zZvP7gXMkGwk"
      },
      "execution_count": null,
      "outputs": []
    },
    {
      "cell_type": "code",
      "source": [
        "# Encode the features so that they are float32 and not strings\n",
        "from sklearn.preprocessing import LabelEncoder\n",
        "encoder = LabelEncoder()\n",
        "y_train = encoder.fit_transform(y_train)\n",
        "label_mapping = dict(zip(encoder.fit_transform(encoder.classes_), encoder.classes_))"
      ],
      "metadata": {
        "id": "8EhbEWTIy3om"
      },
      "execution_count": null,
      "outputs": []
    },
    {
      "cell_type": "code",
      "source": [
        "# Define the model architecture\n",
        "model = Sequential()\n",
        "model.add(Conv2D(32, kernel_size=(3, 3), activation='relu', input_shape=X_train.shape[1:]))\n",
        "model.add(MaxPooling2D(pool_size=(2, 2)))\n",
        "model.add(Conv2D(64, kernel_size=(3, 3), activation='relu'))\n",
        "model.add(MaxPooling2D(pool_size=(2, 2)))\n",
        "model.add(Flatten())\n",
        "model.add(Dense(256, activation='relu'))\n",
        "model.add(Dense(128, activation='relu'))\n",
        "model.add(Dense(64, activation='softmax'))\n",
        "\n",
        "# Compile the model\n",
        "model.compile(loss='sparse_categorical_crossentropy',\n",
        "              optimizer='adam',\n",
        "              metrics=['accuracy'])\n",
        "\n",
        "\n",
        "H = model.fit(X_train, y_train, batch_size = 100, epochs=30)"
      ],
      "metadata": {
        "colab": {
          "base_uri": "https://localhost:8080/"
        },
        "id": "WlnSho8Yaa4K",
        "outputId": "07f80bd8-52e4-449b-ea4b-895fd476ebb6"
      },
      "execution_count": null,
      "outputs": [
        {
          "output_type": "stream",
          "name": "stdout",
          "text": [
            "Epoch 1/30\n",
            "210/210 [==============================] - 18s 83ms/step - loss: 2.2920 - accuracy: 0.2038\n",
            "Epoch 2/30\n",
            "210/210 [==============================] - 17s 82ms/step - loss: 2.0230 - accuracy: 0.2912\n",
            "Epoch 3/30\n",
            "210/210 [==============================] - 17s 82ms/step - loss: 1.8809 - accuracy: 0.3523\n",
            "Epoch 4/30\n",
            "210/210 [==============================] - 17s 82ms/step - loss: 1.7621 - accuracy: 0.3953\n",
            "Epoch 5/30\n",
            "210/210 [==============================] - 17s 83ms/step - loss: 1.6607 - accuracy: 0.4307\n",
            "Epoch 6/30\n",
            "210/210 [==============================] - 17s 82ms/step - loss: 1.5774 - accuracy: 0.4585\n",
            "Epoch 7/30\n",
            "210/210 [==============================] - 17s 82ms/step - loss: 1.5271 - accuracy: 0.4738\n",
            "Epoch 8/30\n",
            "210/210 [==============================] - 17s 81ms/step - loss: 1.4663 - accuracy: 0.4957\n",
            "Epoch 9/30\n",
            "210/210 [==============================] - 17s 82ms/step - loss: 1.4268 - accuracy: 0.5107\n",
            "Epoch 10/30\n",
            "210/210 [==============================] - 17s 82ms/step - loss: 1.3688 - accuracy: 0.5356\n",
            "Epoch 11/30\n",
            "210/210 [==============================] - 17s 81ms/step - loss: 1.3246 - accuracy: 0.5487\n",
            "Epoch 12/30\n",
            "210/210 [==============================] - 17s 82ms/step - loss: 1.2751 - accuracy: 0.5639\n",
            "Epoch 13/30\n",
            "210/210 [==============================] - 17s 82ms/step - loss: 1.2197 - accuracy: 0.5823\n",
            "Epoch 14/30\n",
            "210/210 [==============================] - 17s 82ms/step - loss: 1.1655 - accuracy: 0.6032\n",
            "Epoch 15/30\n",
            "210/210 [==============================] - 17s 82ms/step - loss: 1.1183 - accuracy: 0.6214\n",
            "Epoch 16/30\n",
            "210/210 [==============================] - 17s 82ms/step - loss: 1.0596 - accuracy: 0.6463\n",
            "Epoch 17/30\n",
            "210/210 [==============================] - 17s 81ms/step - loss: 1.0000 - accuracy: 0.6616\n",
            "Epoch 18/30\n",
            "210/210 [==============================] - 17s 81ms/step - loss: 0.9452 - accuracy: 0.6838\n",
            "Epoch 19/30\n",
            "210/210 [==============================] - 17s 81ms/step - loss: 0.8919 - accuracy: 0.7031\n",
            "Epoch 20/30\n",
            "210/210 [==============================] - 17s 82ms/step - loss: 0.8385 - accuracy: 0.7198\n",
            "Epoch 21/30\n",
            "210/210 [==============================] - 17s 80ms/step - loss: 0.7692 - accuracy: 0.7473\n",
            "Epoch 22/30\n",
            "210/210 [==============================] - 17s 81ms/step - loss: 0.7260 - accuracy: 0.7571\n",
            "Epoch 23/30\n",
            "210/210 [==============================] - 17s 81ms/step - loss: 0.6589 - accuracy: 0.7819\n",
            "Epoch 24/30\n",
            "210/210 [==============================] - 17s 81ms/step - loss: 0.6033 - accuracy: 0.8006\n",
            "Epoch 25/30\n",
            "210/210 [==============================] - 17s 81ms/step - loss: 0.5458 - accuracy: 0.8214\n",
            "Epoch 26/30\n",
            "210/210 [==============================] - 17s 81ms/step - loss: 0.4954 - accuracy: 0.8386\n",
            "Epoch 27/30\n",
            "210/210 [==============================] - 17s 81ms/step - loss: 0.4392 - accuracy: 0.8587\n",
            "Epoch 28/30\n",
            "210/210 [==============================] - 17s 81ms/step - loss: 0.3913 - accuracy: 0.8733\n",
            "Epoch 29/30\n",
            "210/210 [==============================] - 17s 82ms/step - loss: 0.3459 - accuracy: 0.8924\n",
            "Epoch 30/30\n",
            "210/210 [==============================] - 17s 81ms/step - loss: 0.3010 - accuracy: 0.9066\n"
          ]
        }
      ]
    },
    {
      "cell_type": "code",
      "source": [
        "import matplotlib.pyplot as plt\n",
        "\n",
        "fig = plt.figure()\n",
        "numOfEpoch = 30\n",
        "plt.plot(np.arange(0, numOfEpoch), H.history['loss'], label='training loss')\n",
        "#plt.plot(np.arange(0, numOfEpoch), H.history['val_loss'], label='validation loss')\n",
        "plt.plot(np.arange(0, numOfEpoch), H.history['accuracy'], label='accuracy')\n",
        "#plt.plot(np.arange(0, numOfEpoch), H.history['val_accuracy'], label='validation accuracy')\n",
        "plt.title('Accuracy and Loss')\n",
        "plt.xlabel('Epoch')\n",
        "plt.ylabel('Loss|Accuracy')\n",
        "plt.legend()"
      ],
      "metadata": {
        "colab": {
          "base_uri": "https://localhost:8080/",
          "height": 312
        },
        "id": "iYLwQ-frSxzZ",
        "outputId": "a08aac45-3a6c-4908-eb9d-8a63854ba27e"
      },
      "execution_count": null,
      "outputs": [
        {
          "output_type": "execute_result",
          "data": {
            "text/plain": [
              "<matplotlib.legend.Legend at 0x7f99ab487dd0>"
            ]
          },
          "metadata": {},
          "execution_count": 67
        },
        {
          "output_type": "display_data",
          "data": {
            "image/png": "[encoded data removed]",
            "text/plain": [
              "<Figure size 432x288 with 1 Axes>"
            ]
          },
          "metadata": {
            "needs_background": "light"
          }
        }
      ]
    },
    {
      "cell_type": "code",
      "source": [
        "x_new = X_test[:10]\n",
        "\n",
        "y_pred =model.predict(np.array(x_new).reshape(-1,IMAGE_SIZE,IMAGE_SIZE,1))\n",
        "\n",
        "print(\"Actual animal: \", y_test[0])\n",
        "print(\"Predicted animal: \", label_mapping[np.argmax(y_pred[0])])"
      ],
      "metadata": {
        "colab": {
          "base_uri": "https://localhost:8080/"
        },
        "id": "PVgEEFpAdvQ6",
        "outputId": "ebbc84b2-27e4-4cd8-9564-9a13afe24138"
      },
      "execution_count": null,
      "outputs": [
        {
          "output_type": "stream",
          "name": "stdout",
          "text": [
            "Actual animal:  spider\n",
            "Predicted animal:  spider\n"
          ]
        }
      ]
    },
    {
      "cell_type": "markdown",
      "source": [
        ""
      ],
      "metadata": {
        "id": "6PYLCT5fteuj"
      }
    }
  ]
}